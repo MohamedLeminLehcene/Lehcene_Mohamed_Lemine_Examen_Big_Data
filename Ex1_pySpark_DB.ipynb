{
 "cells": [
  {
   "cell_type": "code",
   "execution_count": 1,
   "id": "ee055b17",
   "metadata": {},
   "outputs": [],
   "source": [
    "import os"
   ]
  },
  {
   "cell_type": "code",
   "execution_count": 2,
   "id": "269cac53",
   "metadata": {},
   "outputs": [],
   "source": [
    "import os\n",
    "\n",
    "file_path = \"C:/Users/Lehcene Mohamed/Downloads/Compressed/jar_files_3/mysql-connector-java-8.0.26.jar\""
   ]
  },
  {
   "cell_type": "code",
   "execution_count": 3,
   "id": "f875b0d1",
   "metadata": {},
   "outputs": [
    {
     "name": "stdout",
     "output_type": "stream",
     "text": [
      "Requirement already satisfied: pyspark in f:\\s3\\nlp\\lib\\site-packages (3.5.0)Note: you may need to restart the kernel to use updated packages.\n",
      "\n",
      "Requirement already satisfied: py4j==0.10.9.7 in f:\\s3\\nlp\\lib\\site-packages (from pyspark) (0.10.9.7)\n"
     ]
    }
   ],
   "source": [
    "pip install pyspark"
   ]
  },
  {
   "cell_type": "code",
   "execution_count": 4,
   "id": "effb64ac",
   "metadata": {},
   "outputs": [
    {
     "name": "stdout",
     "output_type": "stream",
     "text": [
      "Requirement already satisfied: mysql-connector-python in f:\\s3\\nlp\\lib\\site-packages (8.2.0)\n",
      "Requirement already satisfied: protobuf<=4.21.12,>=4.21.1 in f:\\s3\\nlp\\lib\\site-packages (from mysql-connector-python) (4.21.12)\n",
      "Note: you may need to restart the kernel to use updated packages.\n"
     ]
    }
   ],
   "source": [
    "pip install mysql-connector-python"
   ]
  },
  {
   "cell_type": "code",
   "execution_count": 5,
   "id": "a7415a3a",
   "metadata": {},
   "outputs": [],
   "source": [
    "from pyspark.sql import SparkSession\n",
    "\n",
    "spark = SparkSession \\\n",
    "       .builder.config(\"spark.jars\", file_path)\\\n",
    "       .master(\"local\").appName(\"PySpark MySQL basic example\")\\\n",
    "       .getOrCreate()"
   ]
  },
  {
   "cell_type": "code",
   "execution_count": 12,
   "id": "57753d46",
   "metadata": {},
   "outputs": [],
   "source": [
    "##Afficher contenu de la table COMMANDES\n",
    "\n",
    "db_commerce_df = spark.read \\\n",
    "         .format(\"jdbc\") \\\n",
    "         .option(\"url\", \"jdbc:mysql://localhost:4306/db_commerce\")\\\n",
    "         .option(\"driver\", \"com.mysql.cj.jdbc.Driver\")\\\n",
    "         .option(\"query\",\"SELECT * from commandes\")\\\n",
    "         .option(\"user\", \"root\")\\\n",
    "         .option(\"password\", \"\")\\\n",
    "         .load()"
   ]
  },
  {
   "cell_type": "code",
   "execution_count": 13,
   "id": "276ca9c5",
   "metadata": {},
   "outputs": [
    {
     "name": "stdout",
     "output_type": "stream",
     "text": [
      "+-----------+-------------+-------------+---------+\n",
      "|ID_COMMANDE|DATE_COMMANDE|MONTANT_TOTAL|ID_CLIENT|\n",
      "+-----------+-------------+-------------+---------+\n",
      "|        101|   2024-01-10|        150.0|        1|\n",
      "|        102|   2024-02-15|        200.5|        2|\n",
      "|        103|   2024-03-20|        75.25|        3|\n",
      "+-----------+-------------+-------------+---------+\n",
      "\n"
     ]
    }
   ],
   "source": [
    "db_commerce_df.show()"
   ]
  },
  {
   "cell_type": "code",
   "execution_count": 14,
   "id": "1ae66709",
   "metadata": {},
   "outputs": [],
   "source": [
    "#####1. Afficher le nombre total de commandes passées par tous les clients.\n",
    "\n",
    "db_commerce_df = spark.read \\\n",
    "         .format(\"jdbc\") \\\n",
    "         .option(\"url\", \"jdbc:mysql://localhost:4306/db_commerce\")\\\n",
    "         .option(\"driver\", \"com.mysql.cj.jdbc.Driver\")\\\n",
    "         .option(\"query\",\"SELECT COUNT(*) AS NombreTotalCommandes FROM commandes\")\\\n",
    "         .option(\"user\", \"root\")\\\n",
    "         .option(\"password\", \"\")\\\n",
    "         .load()"
   ]
  },
  {
   "cell_type": "code",
   "execution_count": 15,
   "id": "f5d7f13d",
   "metadata": {},
   "outputs": [
    {
     "name": "stdout",
     "output_type": "stream",
     "text": [
      "+--------------------+\n",
      "|NombreTotalCommandes|\n",
      "+--------------------+\n",
      "|                   3|\n",
      "+--------------------+\n",
      "\n"
     ]
    }
   ],
   "source": [
    "db_commerce_df.show()"
   ]
  },
  {
   "cell_type": "code",
   "execution_count": 16,
   "id": "0c6c9b5d",
   "metadata": {},
   "outputs": [],
   "source": [
    "### Pour afficher contenu de la table CLIENTS\n",
    "\n",
    "db_commerce_df = spark.read \\\n",
    "         .format(\"jdbc\") \\\n",
    "         .option(\"url\", \"jdbc:mysql://localhost:4306/db_commerce\")\\\n",
    "         .option(\"driver\", \"com.mysql.cj.jdbc.Driver\")\\\n",
    "         .option(\"query\",\"SELECT * from clients\")\\\n",
    "         .option(\"user\", \"root\")\\\n",
    "         .option(\"password\", \"\")\\\n",
    "         .load()"
   ]
  },
  {
   "cell_type": "code",
   "execution_count": 18,
   "id": "319a0c18",
   "metadata": {},
   "outputs": [
    {
     "name": "stdout",
     "output_type": "stream",
     "text": [
      "+---------+------+------+--------------------+--------------------+\n",
      "|ID_CLIENT|   NOM|PRENOM|               EMAIL|             ADRESSE|\n",
      "+---------+------+------+--------------------+--------------------+\n",
      "|        1|Dupont|  Jean|jean.dupont@email...|123 Rue de la Lib...|\n",
      "|        2|Martin| Marie|marie.martin@emai...|456 Avenue des Fl...|\n",
      "|        3|Leroux|Pierre|pierre.leroux@ema...|789 Boulevard du ...|\n",
      "+---------+------+------+--------------------+--------------------+\n",
      "\n"
     ]
    }
   ],
   "source": [
    "db_commerce_df.show()"
   ]
  },
  {
   "cell_type": "code",
   "execution_count": 20,
   "id": "cffd6173",
   "metadata": {},
   "outputs": [],
   "source": [
    "##2. Afficher le client qui a dépensé le plus (en terme de montant).\n",
    "\n",
    "db_commerce_df = spark.read \\\n",
    "         .format(\"jdbc\") \\\n",
    "         .option(\"url\", \"jdbc:mysql://localhost:4306/db_commerce\")\\\n",
    "         .option(\"driver\", \"com.mysql.cj.jdbc.Driver\")\\\n",
    "         .option(\"query\",\"SELECT c.ID_CLIENT, c.NOM, c.PRENOM, c.EMAIL, c.ADRESSE, SUM(co.MONTANT_TOTAL) AS MontantTotalDepense FROM clients c JOIN commandes co ON c.ID_CLIENT = co.ID_CLIENT GROUP BY c.ID_CLIENT, c.NOM, c.PRENOM, c.EMAIL, c.ADRESSE ORDER BY MontantTotalDepense DESC LIMIT 1\")\\\n",
    "         .option(\"user\", \"root\")\\\n",
    "         .option(\"password\", \"\")\\\n",
    "         .load()"
   ]
  },
  {
   "cell_type": "code",
   "execution_count": 21,
   "id": "5426fa11",
   "metadata": {},
   "outputs": [
    {
     "name": "stdout",
     "output_type": "stream",
     "text": [
      "+---------+------+------+--------------------+--------------------+-------------------+\n",
      "|ID_CLIENT|   NOM|PRENOM|               EMAIL|             ADRESSE|MontantTotalDepense|\n",
      "+---------+------+------+--------------------+--------------------+-------------------+\n",
      "|        2|Martin| Marie|marie.martin@emai...|456 Avenue des Fl...|              200.5|\n",
      "+---------+------+------+--------------------+--------------------+-------------------+\n",
      "\n"
     ]
    }
   ],
   "source": [
    "db_commerce_df.show()"
   ]
  },
  {
   "cell_type": "code",
   "execution_count": 23,
   "id": "eb8b8078",
   "metadata": {},
   "outputs": [],
   "source": [
    "\n",
    "##3. Afficher la moyenne des dépenses par client.\n",
    "\n",
    "db_commerce_df = spark.read \\\n",
    "         .format(\"jdbc\") \\\n",
    "         .option(\"url\", \"jdbc:mysql://localhost:4306/db_commerce\")\\\n",
    "         .option(\"driver\", \"com.mysql.cj.jdbc.Driver\")\\\n",
    "         .option(\"query\",\"SELECT c.ID_CLIENT, c.NOM, c.PRENOM, c.EMAIL, c.ADRESSE, AVG(co.MONTANT_TOTAL) AS MoyenneDepenses FROM clients c JOIN commandes co ON c.ID_CLIENT = co.ID_CLIENT GROUP BY c.ID_CLIENT, c.NOM, c.PRENOM, c.EMAIL, c.ADRESSE\")\\\n",
    "         .option(\"user\", \"root\")\\\n",
    "         .option(\"password\", \"\")\\\n",
    "         .load()"
   ]
  },
  {
   "cell_type": "code",
   "execution_count": 24,
   "id": "edcfbd51",
   "metadata": {},
   "outputs": [
    {
     "name": "stdout",
     "output_type": "stream",
     "text": [
      "+---------+------+------+--------------------+--------------------+---------------+\n",
      "|ID_CLIENT|   NOM|PRENOM|               EMAIL|             ADRESSE|MoyenneDepenses|\n",
      "+---------+------+------+--------------------+--------------------+---------------+\n",
      "|        1|Dupont|  Jean|jean.dupont@email...|123 Rue de la Lib...|          150.0|\n",
      "|        2|Martin| Marie|marie.martin@emai...|456 Avenue des Fl...|          200.5|\n",
      "|        3|Leroux|Pierre|pierre.leroux@ema...|789 Boulevard du ...|          75.25|\n",
      "+---------+------+------+--------------------+--------------------+---------------+\n",
      "\n"
     ]
    }
   ],
   "source": [
    "db_commerce_df.show()"
   ]
  },
  {
   "cell_type": "code",
   "execution_count": null,
   "id": "a14933a9",
   "metadata": {},
   "outputs": [],
   "source": []
  }
 ],
 "metadata": {
  "kernelspec": {
   "display_name": "Python 3 (ipykernel)",
   "language": "python",
   "name": "python3"
  },
  "language_info": {
   "codemirror_mode": {
    "name": "ipython",
    "version": 3
   },
   "file_extension": ".py",
   "mimetype": "text/x-python",
   "name": "python",
   "nbconvert_exporter": "python",
   "pygments_lexer": "ipython3",
   "version": "3.11.5"
  }
 },
 "nbformat": 4,
 "nbformat_minor": 5
}
